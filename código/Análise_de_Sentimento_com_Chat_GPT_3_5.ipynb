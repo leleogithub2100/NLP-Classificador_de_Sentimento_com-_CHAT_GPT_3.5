{
  "cells": [
    {
      "cell_type": "code",
      "execution_count": null,
      "metadata": {
        "colab": {
          "base_uri": "https://localhost:8080/",
          "height": 1000
        },
        "id": "voaipDRIBpXq",
        "outputId": "0afb3906-3e28-4897-9ede-84ad4603dbc3"
      },
      "outputs": [
        {
          "name": "stdout",
          "output_type": "stream",
          "text": [
            "Collecting scikit-llm\n",
            "  Downloading scikit_llm-0.3.0-py3-none-any.whl (36 kB)\n",
            "Requirement already satisfied: scikit-learn>=1.1.0 in /usr/local/lib/python3.10/dist-packages (from scikit-llm) (1.2.2)\n",
            "Requirement already satisfied: pandas>=1.5.0 in /usr/local/lib/python3.10/dist-packages (from scikit-llm) (1.5.3)\n",
            "Collecting openai>=0.27.0 (from scikit-llm)\n",
            "  Downloading openai-0.27.8-py3-none-any.whl (73 kB)\n",
            "\u001b[2K     \u001b[90m━━━━━━━━━━━━━━━━━━━━━━━━━━━━━━━━━━━━━━━━\u001b[0m \u001b[32m73.6/73.6 kB\u001b[0m \u001b[31m2.5 MB/s\u001b[0m eta \u001b[36m0:00:00\u001b[0m\n",
            "\u001b[?25hRequirement already satisfied: tqdm>=4.60.0 in /usr/local/lib/python3.10/dist-packages (from scikit-llm) (4.65.0)\n",
            "Collecting annoy>=1.17.2 (from scikit-llm)\n",
            "  Downloading annoy-1.17.3.tar.gz (647 kB)\n",
            "\u001b[2K     \u001b[90m━━━━━━━━━━━━━━━━━━━━━━━━━━━━━━━━━━━━━━━\u001b[0m \u001b[32m647.5/647.5 kB\u001b[0m \u001b[31m7.1 MB/s\u001b[0m eta \u001b[36m0:00:00\u001b[0m\n",
            "\u001b[?25h  Preparing metadata (setup.py) ... \u001b[?25l\u001b[?25hdone\n",
            "Collecting google-cloud-aiplatform>=1.27.0 (from scikit-llm)\n",
            "  Downloading google_cloud_aiplatform-1.28.1-py2.py3-none-any.whl (2.7 MB)\n",
            "\u001b[2K     \u001b[90m━━━━━━━━━━━━━━━━━━━━━━━━━━━━━━━━━━━━━━━━\u001b[0m \u001b[32m2.7/2.7 MB\u001b[0m \u001b[31m14.7 MB/s\u001b[0m eta \u001b[36m0:00:00\u001b[0m\n",
            "\u001b[?25hCollecting vertexai<0.1.0 (from scikit-llm)\n",
            "  Downloading vertexai-0.0.1-py3-none-any.whl (6.0 kB)\n",
            "Requirement already satisfied: google-api-core[grpc]!=2.0.*,!=2.1.*,!=2.2.*,!=2.3.*,!=2.4.*,!=2.5.*,!=2.6.*,!=2.7.*,<3.0.0dev,>=1.32.0 in /usr/local/lib/python3.10/dist-packages (from google-cloud-aiplatform>=1.27.0->scikit-llm) (2.11.1)\n",
            "Requirement already satisfied: proto-plus<2.0.0dev,>=1.22.0 in /usr/local/lib/python3.10/dist-packages (from google-cloud-aiplatform>=1.27.0->scikit-llm) (1.22.3)\n",
            "Requirement already satisfied: protobuf!=3.20.0,!=3.20.1,!=4.21.0,!=4.21.1,!=4.21.2,!=4.21.3,!=4.21.4,!=4.21.5,<5.0.0dev,>=3.19.5 in /usr/local/lib/python3.10/dist-packages (from google-cloud-aiplatform>=1.27.0->scikit-llm) (3.20.3)\n",
            "Requirement already satisfied: packaging>=14.3 in /usr/local/lib/python3.10/dist-packages (from google-cloud-aiplatform>=1.27.0->scikit-llm) (23.1)\n",
            "Requirement already satisfied: google-cloud-storage<3.0.0dev,>=1.32.0 in /usr/local/lib/python3.10/dist-packages (from google-cloud-aiplatform>=1.27.0->scikit-llm) (2.8.0)\n",
            "Requirement already satisfied: google-cloud-bigquery<4.0.0dev,>=1.15.0 in /usr/local/lib/python3.10/dist-packages (from google-cloud-aiplatform>=1.27.0->scikit-llm) (3.10.0)\n",
            "Collecting google-cloud-resource-manager<3.0.0dev,>=1.3.3 (from google-cloud-aiplatform>=1.27.0->scikit-llm)\n",
            "  Downloading google_cloud_resource_manager-1.10.2-py2.py3-none-any.whl (321 kB)\n",
            "\u001b[2K     \u001b[90m━━━━━━━━━━━━━━━━━━━━━━━━━━━━━━━━━━━━━━\u001b[0m \u001b[32m321.3/321.3 kB\u001b[0m \u001b[31m23.3 MB/s\u001b[0m eta \u001b[36m0:00:00\u001b[0m\n",
            "\u001b[?25hCollecting shapely<2.0.0 (from google-cloud-aiplatform>=1.27.0->scikit-llm)\n",
            "  Downloading Shapely-1.8.5.post1-cp310-cp310-manylinux_2_12_x86_64.manylinux2010_x86_64.whl (2.0 MB)\n",
            "\u001b[2K     \u001b[90m━━━━━━━━━━━━━━━━━━━━━━━━━━━━━━━━━━━━━━━━\u001b[0m \u001b[32m2.0/2.0 MB\u001b[0m \u001b[31m30.2 MB/s\u001b[0m eta \u001b[36m0:00:00\u001b[0m\n",
            "\u001b[?25hRequirement already satisfied: requests>=2.20 in /usr/local/lib/python3.10/dist-packages (from openai>=0.27.0->scikit-llm) (2.27.1)\n",
            "Requirement already satisfied: aiohttp in /usr/local/lib/python3.10/dist-packages (from openai>=0.27.0->scikit-llm) (3.8.4)\n",
            "Requirement already satisfied: python-dateutil>=2.8.1 in /usr/local/lib/python3.10/dist-packages (from pandas>=1.5.0->scikit-llm) (2.8.2)\n",
            "Requirement already satisfied: pytz>=2020.1 in /usr/local/lib/python3.10/dist-packages (from pandas>=1.5.0->scikit-llm) (2022.7.1)\n",
            "Requirement already satisfied: numpy>=1.21.0 in /usr/local/lib/python3.10/dist-packages (from pandas>=1.5.0->scikit-llm) (1.22.4)\n",
            "Requirement already satisfied: scipy>=1.3.2 in /usr/local/lib/python3.10/dist-packages (from scikit-learn>=1.1.0->scikit-llm) (1.10.1)\n",
            "Requirement already satisfied: joblib>=1.1.1 in /usr/local/lib/python3.10/dist-packages (from scikit-learn>=1.1.0->scikit-llm) (1.3.1)\n",
            "Requirement already satisfied: threadpoolctl>=2.0.0 in /usr/local/lib/python3.10/dist-packages (from scikit-learn>=1.1.0->scikit-llm) (3.2.0)\n",
            "Requirement already satisfied: googleapis-common-protos<2.0.dev0,>=1.56.2 in /usr/local/lib/python3.10/dist-packages (from google-api-core[grpc]!=2.0.*,!=2.1.*,!=2.2.*,!=2.3.*,!=2.4.*,!=2.5.*,!=2.6.*,!=2.7.*,<3.0.0dev,>=1.32.0->google-cloud-aiplatform>=1.27.0->scikit-llm) (1.59.1)\n",
            "Requirement already satisfied: google-auth<3.0.dev0,>=2.14.1 in /usr/local/lib/python3.10/dist-packages (from google-api-core[grpc]!=2.0.*,!=2.1.*,!=2.2.*,!=2.3.*,!=2.4.*,!=2.5.*,!=2.6.*,!=2.7.*,<3.0.0dev,>=1.32.0->google-cloud-aiplatform>=1.27.0->scikit-llm) (2.17.3)\n",
            "Requirement already satisfied: grpcio<2.0dev,>=1.33.2 in /usr/local/lib/python3.10/dist-packages (from google-api-core[grpc]!=2.0.*,!=2.1.*,!=2.2.*,!=2.3.*,!=2.4.*,!=2.5.*,!=2.6.*,!=2.7.*,<3.0.0dev,>=1.32.0->google-cloud-aiplatform>=1.27.0->scikit-llm) (1.56.0)\n",
            "Requirement already satisfied: grpcio-status<2.0.dev0,>=1.33.2 in /usr/local/lib/python3.10/dist-packages (from google-api-core[grpc]!=2.0.*,!=2.1.*,!=2.2.*,!=2.3.*,!=2.4.*,!=2.5.*,!=2.6.*,!=2.7.*,<3.0.0dev,>=1.32.0->google-cloud-aiplatform>=1.27.0->scikit-llm) (1.48.2)\n",
            "Requirement already satisfied: google-cloud-core<3.0.0dev,>=1.6.0 in /usr/local/lib/python3.10/dist-packages (from google-cloud-bigquery<4.0.0dev,>=1.15.0->google-cloud-aiplatform>=1.27.0->scikit-llm) (2.3.3)\n",
            "Requirement already satisfied: google-resumable-media<3.0dev,>=0.6.0 in /usr/local/lib/python3.10/dist-packages (from google-cloud-bigquery<4.0.0dev,>=1.15.0->google-cloud-aiplatform>=1.27.0->scikit-llm) (2.5.0)\n",
            "Requirement already satisfied: grpc-google-iam-v1<1.0.0dev,>=0.12.4 in /usr/local/lib/python3.10/dist-packages (from google-cloud-resource-manager<3.0.0dev,>=1.3.3->google-cloud-aiplatform>=1.27.0->scikit-llm) (0.12.6)\n",
            "Requirement already satisfied: six>=1.5 in /usr/local/lib/python3.10/dist-packages (from python-dateutil>=2.8.1->pandas>=1.5.0->scikit-llm) (1.16.0)\n",
            "Requirement already satisfied: urllib3<1.27,>=1.21.1 in /usr/local/lib/python3.10/dist-packages (from requests>=2.20->openai>=0.27.0->scikit-llm) (1.26.16)\n",
            "Requirement already satisfied: certifi>=2017.4.17 in /usr/local/lib/python3.10/dist-packages (from requests>=2.20->openai>=0.27.0->scikit-llm) (2023.5.7)\n",
            "Requirement already satisfied: charset-normalizer~=2.0.0 in /usr/local/lib/python3.10/dist-packages (from requests>=2.20->openai>=0.27.0->scikit-llm) (2.0.12)\n",
            "Requirement already satisfied: idna<4,>=2.5 in /usr/local/lib/python3.10/dist-packages (from requests>=2.20->openai>=0.27.0->scikit-llm) (3.4)\n",
            "Requirement already satisfied: attrs>=17.3.0 in /usr/local/lib/python3.10/dist-packages (from aiohttp->openai>=0.27.0->scikit-llm) (23.1.0)\n",
            "Requirement already satisfied: multidict<7.0,>=4.5 in /usr/local/lib/python3.10/dist-packages (from aiohttp->openai>=0.27.0->scikit-llm) (6.0.4)\n",
            "Requirement already satisfied: async-timeout<5.0,>=4.0.0a3 in /usr/local/lib/python3.10/dist-packages (from aiohttp->openai>=0.27.0->scikit-llm) (4.0.2)\n",
            "Requirement already satisfied: yarl<2.0,>=1.0 in /usr/local/lib/python3.10/dist-packages (from aiohttp->openai>=0.27.0->scikit-llm) (1.9.2)\n",
            "Requirement already satisfied: frozenlist>=1.1.1 in /usr/local/lib/python3.10/dist-packages (from aiohttp->openai>=0.27.0->scikit-llm) (1.4.0)\n",
            "Requirement already satisfied: aiosignal>=1.1.2 in /usr/local/lib/python3.10/dist-packages (from aiohttp->openai>=0.27.0->scikit-llm) (1.3.1)\n",
            "Requirement already satisfied: cachetools<6.0,>=2.0.0 in /usr/local/lib/python3.10/dist-packages (from google-auth<3.0.dev0,>=2.14.1->google-api-core[grpc]!=2.0.*,!=2.1.*,!=2.2.*,!=2.3.*,!=2.4.*,!=2.5.*,!=2.6.*,!=2.7.*,<3.0.0dev,>=1.32.0->google-cloud-aiplatform>=1.27.0->scikit-llm) (5.3.1)\n",
            "Requirement already satisfied: pyasn1-modules>=0.2.1 in /usr/local/lib/python3.10/dist-packages (from google-auth<3.0.dev0,>=2.14.1->google-api-core[grpc]!=2.0.*,!=2.1.*,!=2.2.*,!=2.3.*,!=2.4.*,!=2.5.*,!=2.6.*,!=2.7.*,<3.0.0dev,>=1.32.0->google-cloud-aiplatform>=1.27.0->scikit-llm) (0.3.0)\n",
            "Requirement already satisfied: rsa<5,>=3.1.4 in /usr/local/lib/python3.10/dist-packages (from google-auth<3.0.dev0,>=2.14.1->google-api-core[grpc]!=2.0.*,!=2.1.*,!=2.2.*,!=2.3.*,!=2.4.*,!=2.5.*,!=2.6.*,!=2.7.*,<3.0.0dev,>=1.32.0->google-cloud-aiplatform>=1.27.0->scikit-llm) (4.9)\n",
            "Requirement already satisfied: google-crc32c<2.0dev,>=1.0 in /usr/local/lib/python3.10/dist-packages (from google-resumable-media<3.0dev,>=0.6.0->google-cloud-bigquery<4.0.0dev,>=1.15.0->google-cloud-aiplatform>=1.27.0->scikit-llm) (1.5.0)\n",
            "Requirement already satisfied: pyasn1<0.6.0,>=0.4.6 in /usr/local/lib/python3.10/dist-packages (from pyasn1-modules>=0.2.1->google-auth<3.0.dev0,>=2.14.1->google-api-core[grpc]!=2.0.*,!=2.1.*,!=2.2.*,!=2.3.*,!=2.4.*,!=2.5.*,!=2.6.*,!=2.7.*,<3.0.0dev,>=1.32.0->google-cloud-aiplatform>=1.27.0->scikit-llm) (0.5.0)\n",
            "Building wheels for collected packages: annoy\n",
            "  Building wheel for annoy (setup.py) ... \u001b[?25l\u001b[?25hdone\n",
            "  Created wheel for annoy: filename=annoy-1.17.3-cp310-cp310-linux_x86_64.whl size=550809 sha256=5aa82edeaaeb5fa1ede5746739357a7495499011e2b736b402008d0958844fcf\n",
            "  Stored in directory: /root/.cache/pip/wheels/64/8a/da/f714bcf46c5efdcfcac0559e63370c21abe961c48e3992465a\n",
            "Successfully built annoy\n",
            "Installing collected packages: annoy, vertexai, shapely, openai, google-cloud-resource-manager, google-cloud-aiplatform, scikit-llm\n",
            "  Attempting uninstall: shapely\n",
            "    Found existing installation: shapely 2.0.1\n",
            "    Uninstalling shapely-2.0.1:\n",
            "      Successfully uninstalled shapely-2.0.1\n",
            "Successfully installed annoy-1.17.3 google-cloud-aiplatform-1.28.1 google-cloud-resource-manager-1.10.2 openai-0.27.8 scikit-llm-0.3.0 shapely-1.8.5.post1 vertexai-0.0.1\n"
          ]
        },
        {
          "data": {
            "application/vnd.colab-display-data+json": {
              "pip_warning": {
                "packages": [
                  "google"
                ]
              }
            }
          },
          "metadata": {},
          "output_type": "display_data"
        }
      ],
      "source": [
        "!pip install scikit-llm"
      ]
    },
    {
      "cell_type": "code",
      "execution_count": null,
      "metadata": {},
      "outputs": [],
      "source": [
        "# importação das bibliotecas\n",
        "\n",
        "from skllm import ZeroShotGPTClassifier\n",
        "from pandas.core.indexing import maybe_convert_ix\n",
        "from skllm import MultiLabelZeroShotGPTClassifier\n",
        "from skllm.config import SKLLMConfig\n",
        "from decouple import config"
      ]
    },
    {
      "cell_type": "markdown",
      "metadata": {
        "id": "EeUvLskHCxwY"
      },
      "source": [
        "### Inicio do Classificador"
      ]
    },
    {
      "cell_type": "code",
      "execution_count": null,
      "metadata": {
        "id": "UQ-RncWNC8-Q"
      },
      "outputs": [],
      "source": [
        "'''Usando uma variável de ambiente para manter a segurança da chave secreta  e do ID. Fazendo a \n",
        "autenticação no site da OPENIA'''\n",
        " \n",
        "\n",
        "OPENAI_SECRET_KEY = config('OPENAI_SECRET_KEY')\n",
        "OPENAI_ORG_ID = config('OPENAI_ORG_ID')\n",
        "\n",
        "\n",
        "SKLLMConfig.set_openai_key(OPENAI_SECRET_KEY)\n",
        "SKLLMConfig.set_openai_org(OPENAI_ORG_ID)"
      ]
    },
    {
      "cell_type": "markdown",
      "metadata": {
        "id": "hO_YNyeqDstu"
      },
      "source": [
        "### Uma pequena amostra de textos comentários de um filme qualquer para servir comom base para a classiifcação de sentimentos"
      ]
    },
    {
      "cell_type": "code",
      "execution_count": null,
      "metadata": {
        "id": "CS_dghvhDcyH"
      },
      "outputs": [],
      "source": [
        "# Comentários e rotulos  para o treinamento do modelo\n",
        "\n",
        "movie_reviews = [\n",
        "\n",
        "\"This was such an amazing movie! The story was so engaging and the acting was phenomenal. I couldn't take my eyes off the screen. Highly recommend it!\",\n",
        "\"I was really disappointed with this film. The plot was full of holes and didn't make much sense. The acting was subpar and I was bored halfway through. Do not recommend.\",\n",
        "\"The cinematography in this movie was excellent! The camera work really built up the suspense and tension in the thriller scenes. Overall a great movie experience!\",\n",
        "\"I felt like this movie wasted a lot of potential. The concept was interesting but the execution was poor and it didn't really come together in the end. Not worth watching.\",\n",
        "\"This was an average film. The story and acting were okay but nothing extraordinary. I wouldn't say it's a must-watch but it's decent for passing the time.\",\n",
        "\"A truly inspiring story that really moved me. The themes of friendship and perseverance shone through. Great performances too! Thumbs up!\",\n",
        "\"I absolutely hated the cheap gimmicks and clichés in this film. The plot was very predictable. No originality or creativity at all! Do not bother watching.\",\n",
        "\"The acting wasn't anything special but I rather enjoyed the fast-paced plot and action sequences. Entertaining popcorn movie overall.\",\n",
        "\"The visual effects were mind-blowing! Unlike anything I've seen before. Combined with a heartwarming story, I highly recommend this film.\",\n",
        "\"With flat characters, bad dialogue, and a generic story, this movie completely missed the mark for me. Very disappointing and not worth the ticket price.\",\n",
        "\n",
        "]\n",
        "\n",
        "movie_review_labels = [\n",
        "\"Positive\",\n",
        "\"Negative\",\n",
        "\"Positive\",\n",
        "\"Negative\",\n",
        "\"Neutral\",\n",
        "\"Positive\",\n",
        "\"Negative\",\n",
        "\"Neutral\",\n",
        "\"Positive\",\n",
        "\"Negative\"\n",
        "\n",
        "]\n",
        "\n",
        "# Novos comentários para testar o modelo após treinamneto\n",
        "\n",
        "new_movie_reviews = [\n",
        "#Negative:\n",
        "\"Between the sloppy editing, amateurish acting, and nonsensical plot, this is a movie to skip. Very poorly executed on all fronts.\",\n",
        "\n",
        "#Neutral:\n",
        "\"I appreciated the nostalgic feel of the setting and costuming. However the pacing was inconsistent and the subplots needed more development. Passable but not great.\",\n",
        "\n",
        "#Positive:\n",
        "\"From start to finish I was thoroughly entertained. Great script, amazing visuals, and top-notch acting. One of the best movies I've seen in a long time!\",\n",
        "\n",
        "#Negative:\n",
        "\"Don't waste your time on this utter disaster of a film. The story and characters are laughably bad. So many things wrong I lost count. Avoid at all costs!\"\n",
        "]"
      ]
    },
    {
      "cell_type": "code",
      "execution_count": null,
      "metadata": {
        "colab": {
          "base_uri": "https://localhost:8080/"
        },
        "id": "WeZ_9XYUaWHt",
        "outputId": "d8a64f99-ef79-4578-dd83-4f0a0cda291f"
      },
      "outputs": [
        {
          "name": "stderr",
          "output_type": "stream",
          "text": [
            " 25%|██▌       | 1/4 [00:09<00:28,  9.65s/it]"
          ]
        },
        {
          "name": "stdout",
          "output_type": "stream",
          "text": [
            "Could not obtain the completion after 3 retries: `RateLimitError :: You exceeded your current quota, please check your plan and billing details.`\n",
            "None\n",
            "Could not extract the label from the completion: 'NoneType' object is not subscriptable\n"
          ]
        },
        {
          "name": "stderr",
          "output_type": "stream",
          "text": [
            "\r 50%|█████     | 2/4 [00:19<00:19,  9.81s/it]"
          ]
        },
        {
          "name": "stdout",
          "output_type": "stream",
          "text": [
            "Could not obtain the completion after 3 retries: `RateLimitError :: You exceeded your current quota, please check your plan and billing details.`\n",
            "None\n",
            "Could not extract the label from the completion: 'NoneType' object is not subscriptable\n"
          ]
        },
        {
          "name": "stderr",
          "output_type": "stream",
          "text": [
            "\r 75%|███████▌  | 3/4 [00:29<00:09,  9.64s/it]"
          ]
        },
        {
          "name": "stdout",
          "output_type": "stream",
          "text": [
            "Could not obtain the completion after 3 retries: `RateLimitError :: You exceeded your current quota, please check your plan and billing details.`\n",
            "None\n",
            "Could not extract the label from the completion: 'NoneType' object is not subscriptable\n"
          ]
        },
        {
          "name": "stderr",
          "output_type": "stream",
          "text": [
            "100%|██████████| 4/4 [00:38<00:00,  9.58s/it]"
          ]
        },
        {
          "name": "stdout",
          "output_type": "stream",
          "text": [
            "Could not obtain the completion after 3 retries: `RateLimitError :: You exceeded your current quota, please check your plan and billing details.`\n",
            "None\n",
            "Could not extract the label from the completion: 'NoneType' object is not subscriptable\n"
          ]
        },
        {
          "name": "stderr",
          "output_type": "stream",
          "text": [
            "\n"
          ]
        }
      ],
      "source": [
        "#Modelagem da análise de sentimento\n",
        "\n",
        "\n",
        "model = ZeroShotGPTClassifier()\n",
        "\n",
        "model.fit(X=movie_reviews, y=movie_review_labels)\n",
        "\n",
        "movie_labels = model.predict(X=new_movie_reviews)"
      ]
    },
    {
      "cell_type": "code",
      "execution_count": null,
      "metadata": {
        "colab": {
          "base_uri": "https://localhost:8080/"
        },
        "id": "HuE4-bola8LL",
        "outputId": "246eecd1-ff67-4b2c-bb66-772d09a6d063"
      },
      "outputs": [
        {
          "name": "stdout",
          "output_type": "stream",
          "text": [
            "(Neutral) => Between the sloppy editing, amateurish acting, and nonsensical plot, this is a movie to skip. Very poorly executed on all fronts. \n",
            "(Negative) => I appreciated the nostalgic feel of the setting and costuming. However the pacing was inconsistent and the subplots needed more development. Passable but not great. \n",
            "(Positive) => From start to finish I was thoroughly entertained. Great script, amazing visuals, and top-notch acting. One of the best movies I've seen in a long time! \n",
            "(Negative) => Don't waste your time on this utter disaster of a film. The story and characters are laughably bad. So many things wrong I lost count. Avoid at all costs! \n"
          ]
        }
      ],
      "source": [
        "# Exibindo os resultados\n",
        "\n",
        "for id, movie in enumerate(new_movie_reviews):\n",
        "    print(f\"({movie_labels[id]}) => { movie} \")"
      ]
    },
    {
      "cell_type": "markdown",
      "metadata": {
        "id": "vjH4k0YBCveU"
      },
      "source": [
        "### Classificação de sentimentos com multi-label"
      ]
    },
    {
      "cell_type": "code",
      "execution_count": null,
      "metadata": {
        "id": "WpblwADqCkNV"
      },
      "outputs": [],
      "source": [
        "#Comentários e rotulos para o treinmento do modelo\n",
        "\n",
        "restaurant_reviews = [\n",
        "      \"The pizza crust was thin and crispy, topped with fresh mozzarella.\",\n",
        "      \"The trendy, modern decor makes this restaurant in the heart of downtown a hotspot.\",\n",
        "      \"With options like burgers, salads, pastas, and steaks, the menu has something for everyone.\",\n",
        "      \"Our friendly waiter provided fast service, and the prices were fair.\",\n",
        "      \"Perfectly cooked fried chicken with a crunchy outside and juicy interior.\",\n",
        "      \"The elegant ambience pairs nicely with the refined, gourmet cuisine.\",\n",
        "      \"Easy to find this place right off the highway exit.\",\n",
        "      \"Mexican, Chinese, and Italian - this fusion place really mixes it up!\",\n",
        "      \"Attentive service given the lower prices compared to similar restaurants.\",\n",
        "      \"The BBQ ribs were tender, smoky, and slathered in tangy sauce.\"\n",
        "      \"A nice casual spot to enjoy a meal in the suburbs.\"\n",
        "\n",
        "]\n",
        "\n",
        "restaurant_review_labels = [\n",
        "      [\"Food\"],\n",
        "      [\"Atmosphere\", \"Location\"],\n",
        "      [\"Food Variety\"],\n",
        "      [\"Service\", \"Pricing\"],\n",
        "      [\"Food\"],\n",
        "      [\"Atmosphere\", \"Food\"],\n",
        "      [\"Location\"],\n",
        "      [\"Food Variety\"],\n",
        "      [\"Service\", \"Pricing\"],\n",
        "      [\"Food\"],\n",
        "      [\"Atmosphere\", \"Location\"]\n",
        "]\n",
        "# Novos comentário para os teste após o treinmento\n",
        "new_restaurant_reviews = [\n",
        "      \"Eclectic options ranging from sushi to kebabs and quesadillas.\",\n",
        "      \"Friendly and fast service for this top-notch sushi.\",\n",
        "      \"Reasonable prices considering the use of premium ingredients.\",\n",
        "      \"The waitstaff provided prompt service considering the low prices.\"\n",
        "]"
      ]
    },
    {
      "cell_type": "code",
      "execution_count": null,
      "metadata": {
        "colab": {
          "base_uri": "https://localhost:8080/"
        },
        "id": "Rc9SAlXHCoGM",
        "outputId": "ae3fc4b2-d3e3-43ab-ba81-8f67307e476b"
      },
      "outputs": [
        {
          "name": "stderr",
          "output_type": "stream",
          "text": [
            " 25%|██▌       | 1/4 [00:09<00:28,  9.35s/it]"
          ]
        },
        {
          "name": "stdout",
          "output_type": "stream",
          "text": [
            "Could not obtain the completion after 3 retries: `RateLimitError :: You exceeded your current quota, please check your plan and billing details.`\n",
            "None\n",
            "Could not extract the label from the completion: 'NoneType' object is not subscriptable\n"
          ]
        },
        {
          "name": "stderr",
          "output_type": "stream",
          "text": [
            "\r 50%|█████     | 2/4 [00:18<00:18,  9.28s/it]"
          ]
        },
        {
          "name": "stdout",
          "output_type": "stream",
          "text": [
            "Could not obtain the completion after 3 retries: `RateLimitError :: You exceeded your current quota, please check your plan and billing details.`\n",
            "None\n",
            "Could not extract the label from the completion: 'NoneType' object is not subscriptable\n"
          ]
        },
        {
          "name": "stderr",
          "output_type": "stream",
          "text": [
            "\r 75%|███████▌  | 3/4 [00:27<00:09,  9.26s/it]"
          ]
        },
        {
          "name": "stdout",
          "output_type": "stream",
          "text": [
            "Could not obtain the completion after 3 retries: `RateLimitError :: You exceeded your current quota, please check your plan and billing details.`\n",
            "None\n",
            "Could not extract the label from the completion: 'NoneType' object is not subscriptable\n"
          ]
        },
        {
          "name": "stderr",
          "output_type": "stream",
          "text": [
            "100%|██████████| 4/4 [00:37<00:00,  9.26s/it]"
          ]
        },
        {
          "name": "stdout",
          "output_type": "stream",
          "text": [
            "Could not obtain the completion after 3 retries: `RateLimitError :: You exceeded your current quota, please check your plan and billing details.`\n",
            "None\n",
            "Could not extract the label from the completion: 'NoneType' object is not subscriptable\n"
          ]
        },
        {
          "name": "stderr",
          "output_type": "stream",
          "text": [
            "\n"
          ]
        }
      ],
      "source": [
        "# Modelagem de sentimento com vários rotulos\n",
        "\n",
        "model = MultiLabelZeroShotGPTClassifier()\n",
        "model.fit(X=restaurant_reviews, y=restaurant_review_labels)\n",
        "\n",
        "restaurant_predict_labels = model.predict(X=new_restaurant_reviews)"
      ]
    },
    {
      "cell_type": "code",
      "execution_count": null,
      "metadata": {
        "colab": {
          "base_uri": "https://localhost:8080/"
        },
        "id": "uV3pT4riCtTc",
        "outputId": "1afcda9f-ac3b-48c9-afef-b211b7f86c1d"
      },
      "outputs": [
        {
          "name": "stdout",
          "output_type": "stream",
          "text": [
            "(['Location']) => ['Location'] \n",
            "(['Food', 'Atmosphere', 'Location']) => ['Food', 'Atmosphere', 'Location'] \n",
            "(['Food', 'Location']) => ['Food', 'Location'] \n",
            "(['Atmosphere', 'Location', 'Pricing']) => ['Atmosphere', 'Location', 'Pricing'] \n"
          ]
        }
      ],
      "source": [
        "# Exibindo os resultados\n",
        "\n",
        "for id, rrest in enumerate(restaurant_predict_labels):\n",
        "    print(f\"({restaurant_predict_labels[id]}) => { rrest} \")"
      ]
    }
  ],
  "metadata": {
    "colab": {
      "provenance": []
    },
    "kernelspec": {
      "display_name": "Python 3",
      "name": "python3"
    },
    "language_info": {
      "name": "python"
    }
  },
  "nbformat": 4,
  "nbformat_minor": 0
}
